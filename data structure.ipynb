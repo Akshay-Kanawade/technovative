{
 "cells": [
  {
   "cell_type": "markdown",
   "id": "173e4014",
   "metadata": {},
   "source": [
    "# stack"
   ]
  },
  {
   "cell_type": "code",
   "execution_count": 5,
   "id": "d6202aca",
   "metadata": {},
   "outputs": [
    {
     "name": "stdout",
     "output_type": "stream",
     "text": [
      "enter limit to stack : 4\n",
      "Select the operation 1.push 2.pop 3. display 4.quit\n",
      "Enter choice : 4\n",
      "done\n"
     ]
    }
   ],
   "source": [
    "class stack:\n",
    "    \n",
    "    def __init__(self, list1, n):\n",
    "        \n",
    "        self.list1 = list1\n",
    "        self.limit = n\n",
    "        \n",
    "    def push(self, element):\n",
    "        \n",
    "        if self.limit == len(list1):\n",
    "            print(\"stack is full\")\n",
    "        \n",
    "        else:\n",
    "            self.list1.append(element)\n",
    "            print(\"ele push in stack \")\n",
    "        \n",
    "    def pop(self):\n",
    "        if not list1:\n",
    "            print(\"empty stack\")\n",
    "        else:\n",
    "            print(\"ele pop from stack: {}\".format(self.list1.pop()))\n",
    "        \n",
    "    def display(self):\n",
    "        print(\"stack element : \")\n",
    "        for i in range(len(self.list1)):\n",
    "            print(self.list1[i],end=\" \")\n",
    "        print()\n",
    "        \n",
    "        \n",
    "list1=[]       \n",
    "n = int(input(\"enter limit to stack : \"))    \n",
    "s = stack(list1, n)\n",
    "\n",
    "while True:\n",
    "    print(\"Select the operation 1.push 2.pop 3. display 4.quit\")\n",
    "    ch = int(input(\"Enter choice : \"))\n",
    "    if ch == 1:\n",
    "        print(\"Enter element :\")\n",
    "        ele = int(input())\n",
    "        s.push(ele)\n",
    "    if ch == 2:\n",
    "        s.pop()\n",
    "    if ch == 3:\n",
    "        s.display()\n",
    "    if ch == 4:\n",
    "        print(\"done\")\n",
    "        break"
   ]
  },
  {
   "cell_type": "code",
   "execution_count": 8,
   "id": "8646a574",
   "metadata": {},
   "outputs": [],
   "source": [
    "from collections import deque"
   ]
  },
  {
   "cell_type": "code",
   "execution_count": 10,
   "id": "23d8bdc0",
   "metadata": {},
   "outputs": [
    {
     "data": {
      "text/plain": [
       "deque([])"
      ]
     },
     "execution_count": 10,
     "metadata": {},
     "output_type": "execute_result"
    }
   ],
   "source": [
    "stack = deque()\n",
    "stack"
   ]
  },
  {
   "cell_type": "code",
   "execution_count": 13,
   "id": "f5314324",
   "metadata": {},
   "outputs": [
    {
     "data": {
      "text/plain": [
       "1"
      ]
     },
     "execution_count": 13,
     "metadata": {},
     "output_type": "execute_result"
    }
   ],
   "source": [
    "stack.append(1)\n",
    "stack\n",
    "stack.pop()"
   ]
  },
  {
   "cell_type": "code",
   "execution_count": 17,
   "id": "43eb1884",
   "metadata": {},
   "outputs": [
    {
     "data": {
      "text/plain": [
       "1"
      ]
     },
     "execution_count": 17,
     "metadata": {},
     "output_type": "execute_result"
    }
   ],
   "source": [
    "not stack\n",
    "stack[-2]"
   ]
  },
  {
   "cell_type": "code",
   "execution_count": 1,
   "id": "4b267dd8",
   "metadata": {},
   "outputs": [],
   "source": [
    "import queue"
   ]
  },
  {
   "cell_type": "code",
   "execution_count": 2,
   "id": "051442ca",
   "metadata": {},
   "outputs": [],
   "source": [
    "stack = queue.LifoQueue(2)"
   ]
  },
  {
   "cell_type": "code",
   "execution_count": 3,
   "id": "935cef30",
   "metadata": {},
   "outputs": [
    {
     "ename": "Full",
     "evalue": "",
     "output_type": "error",
     "traceback": [
      "\u001b[0;31m---------------------------------------------------------------------------\u001b[0m",
      "\u001b[0;31mFull\u001b[0m                                      Traceback (most recent call last)",
      "\u001b[0;32m<ipython-input-3-2e73dcb03a0c>\u001b[0m in \u001b[0;36m<module>\u001b[0;34m\u001b[0m\n\u001b[1;32m      1\u001b[0m \u001b[0mstack\u001b[0m\u001b[0;34m.\u001b[0m\u001b[0mput\u001b[0m\u001b[0;34m(\u001b[0m\u001b[0;36m10\u001b[0m\u001b[0;34m)\u001b[0m\u001b[0;34m\u001b[0m\u001b[0;34m\u001b[0m\u001b[0m\n\u001b[1;32m      2\u001b[0m \u001b[0mstack\u001b[0m\u001b[0;34m.\u001b[0m\u001b[0mput\u001b[0m\u001b[0;34m(\u001b[0m\u001b[0;36m20\u001b[0m\u001b[0;34m)\u001b[0m\u001b[0;34m\u001b[0m\u001b[0;34m\u001b[0m\u001b[0m\n\u001b[0;32m----> 3\u001b[0;31m \u001b[0mstack\u001b[0m\u001b[0;34m.\u001b[0m\u001b[0mput\u001b[0m\u001b[0;34m(\u001b[0m\u001b[0;36m30\u001b[0m\u001b[0;34m,\u001b[0m\u001b[0mtimeout\u001b[0m \u001b[0;34m=\u001b[0m \u001b[0;36m1\u001b[0m\u001b[0;34m)\u001b[0m\u001b[0;34m\u001b[0m\u001b[0;34m\u001b[0m\u001b[0m\n\u001b[0m",
      "\u001b[0;32m/usr/lib/python3.6/queue.py\u001b[0m in \u001b[0;36mput\u001b[0;34m(self, item, block, timeout)\u001b[0m\n\u001b[1;32m    139\u001b[0m                         \u001b[0mremaining\u001b[0m \u001b[0;34m=\u001b[0m \u001b[0mendtime\u001b[0m \u001b[0;34m-\u001b[0m \u001b[0mtime\u001b[0m\u001b[0;34m(\u001b[0m\u001b[0;34m)\u001b[0m\u001b[0;34m\u001b[0m\u001b[0;34m\u001b[0m\u001b[0m\n\u001b[1;32m    140\u001b[0m                         \u001b[0;32mif\u001b[0m \u001b[0mremaining\u001b[0m \u001b[0;34m<=\u001b[0m \u001b[0;36m0.0\u001b[0m\u001b[0;34m:\u001b[0m\u001b[0;34m\u001b[0m\u001b[0;34m\u001b[0m\u001b[0m\n\u001b[0;32m--> 141\u001b[0;31m                             \u001b[0;32mraise\u001b[0m \u001b[0mFull\u001b[0m\u001b[0;34m\u001b[0m\u001b[0;34m\u001b[0m\u001b[0m\n\u001b[0m\u001b[1;32m    142\u001b[0m                         \u001b[0mself\u001b[0m\u001b[0;34m.\u001b[0m\u001b[0mnot_full\u001b[0m\u001b[0;34m.\u001b[0m\u001b[0mwait\u001b[0m\u001b[0;34m(\u001b[0m\u001b[0mremaining\u001b[0m\u001b[0;34m)\u001b[0m\u001b[0;34m\u001b[0m\u001b[0;34m\u001b[0m\u001b[0m\n\u001b[1;32m    143\u001b[0m             \u001b[0mself\u001b[0m\u001b[0;34m.\u001b[0m\u001b[0m_put\u001b[0m\u001b[0;34m(\u001b[0m\u001b[0mitem\u001b[0m\u001b[0;34m)\u001b[0m\u001b[0;34m\u001b[0m\u001b[0;34m\u001b[0m\u001b[0m\n",
      "\u001b[0;31mFull\u001b[0m: "
     ]
    }
   ],
   "source": [
    "stack.put(10)\n",
    "stack.put(20)\n",
    "stack.put(30,timeout = 1)"
   ]
  },
  {
   "cell_type": "code",
   "execution_count": 4,
   "id": "51a4cfd8",
   "metadata": {},
   "outputs": [
    {
     "ename": "Empty",
     "evalue": "",
     "output_type": "error",
     "traceback": [
      "\u001b[0;31m---------------------------------------------------------------------------\u001b[0m",
      "\u001b[0;31mEmpty\u001b[0m                                     Traceback (most recent call last)",
      "\u001b[0;32m<ipython-input-4-0e504b872085>\u001b[0m in \u001b[0;36m<module>\u001b[0;34m\u001b[0m\n\u001b[1;32m      1\u001b[0m \u001b[0mstack\u001b[0m\u001b[0;34m.\u001b[0m\u001b[0mget\u001b[0m\u001b[0;34m(\u001b[0m\u001b[0;34m)\u001b[0m\u001b[0;34m\u001b[0m\u001b[0;34m\u001b[0m\u001b[0m\n\u001b[1;32m      2\u001b[0m \u001b[0mstack\u001b[0m\u001b[0;34m.\u001b[0m\u001b[0mget\u001b[0m\u001b[0;34m(\u001b[0m\u001b[0;34m)\u001b[0m\u001b[0;34m\u001b[0m\u001b[0;34m\u001b[0m\u001b[0m\n\u001b[0;32m----> 3\u001b[0;31m \u001b[0mstack\u001b[0m\u001b[0;34m.\u001b[0m\u001b[0mget\u001b[0m\u001b[0;34m(\u001b[0m\u001b[0mtimeout\u001b[0m \u001b[0;34m=\u001b[0m \u001b[0;36m1\u001b[0m\u001b[0;34m)\u001b[0m\u001b[0;34m\u001b[0m\u001b[0;34m\u001b[0m\u001b[0m\n\u001b[0m",
      "\u001b[0;32m/usr/lib/python3.6/queue.py\u001b[0m in \u001b[0;36mget\u001b[0;34m(self, block, timeout)\u001b[0m\n\u001b[1;32m    170\u001b[0m                     \u001b[0mremaining\u001b[0m \u001b[0;34m=\u001b[0m \u001b[0mendtime\u001b[0m \u001b[0;34m-\u001b[0m \u001b[0mtime\u001b[0m\u001b[0;34m(\u001b[0m\u001b[0;34m)\u001b[0m\u001b[0;34m\u001b[0m\u001b[0;34m\u001b[0m\u001b[0m\n\u001b[1;32m    171\u001b[0m                     \u001b[0;32mif\u001b[0m \u001b[0mremaining\u001b[0m \u001b[0;34m<=\u001b[0m \u001b[0;36m0.0\u001b[0m\u001b[0;34m:\u001b[0m\u001b[0;34m\u001b[0m\u001b[0;34m\u001b[0m\u001b[0m\n\u001b[0;32m--> 172\u001b[0;31m                         \u001b[0;32mraise\u001b[0m \u001b[0mEmpty\u001b[0m\u001b[0;34m\u001b[0m\u001b[0;34m\u001b[0m\u001b[0m\n\u001b[0m\u001b[1;32m    173\u001b[0m                     \u001b[0mself\u001b[0m\u001b[0;34m.\u001b[0m\u001b[0mnot_empty\u001b[0m\u001b[0;34m.\u001b[0m\u001b[0mwait\u001b[0m\u001b[0;34m(\u001b[0m\u001b[0mremaining\u001b[0m\u001b[0;34m)\u001b[0m\u001b[0;34m\u001b[0m\u001b[0;34m\u001b[0m\u001b[0m\n\u001b[1;32m    174\u001b[0m             \u001b[0mitem\u001b[0m \u001b[0;34m=\u001b[0m \u001b[0mself\u001b[0m\u001b[0;34m.\u001b[0m\u001b[0m_get\u001b[0m\u001b[0;34m(\u001b[0m\u001b[0;34m)\u001b[0m\u001b[0;34m\u001b[0m\u001b[0;34m\u001b[0m\u001b[0m\n",
      "\u001b[0;31mEmpty\u001b[0m: "
     ]
    }
   ],
   "source": [
    "stack.get()\n",
    "stack.get()\n",
    "stack.get(timeout = 1)"
   ]
  },
  {
   "cell_type": "markdown",
   "id": "a57e7fe6",
   "metadata": {},
   "source": [
    "# queue"
   ]
  },
  {
   "cell_type": "code",
   "execution_count": 1,
   "id": "6a656862",
   "metadata": {},
   "outputs": [],
   "source": [
    "list1=[]"
   ]
  },
  {
   "cell_type": "code",
   "execution_count": 14,
   "id": "6642ed6b",
   "metadata": {},
   "outputs": [
    {
     "data": {
      "text/plain": [
       "[3, 1, 2, 3]"
      ]
     },
     "execution_count": 14,
     "metadata": {},
     "output_type": "execute_result"
    }
   ],
   "source": [
    "list1.append(1)\n",
    "list1.append(2)\n",
    "list1.append(3)\n",
    "list1"
   ]
  },
  {
   "cell_type": "code",
   "execution_count": 3,
   "id": "6b63cf01",
   "metadata": {},
   "outputs": [
    {
     "data": {
      "text/plain": [
       "1"
      ]
     },
     "execution_count": 3,
     "metadata": {},
     "output_type": "execute_result"
    }
   ],
   "source": [
    "list1.pop(0)"
   ]
  },
  {
   "cell_type": "code",
   "execution_count": 15,
   "id": "a3b056b9",
   "metadata": {},
   "outputs": [
    {
     "name": "stdout",
     "output_type": "stream",
     "text": [
      "[3, 1, 2, 3]\n"
     ]
    },
    {
     "data": {
      "text/plain": [
       "3"
      ]
     },
     "execution_count": 15,
     "metadata": {},
     "output_type": "execute_result"
    }
   ],
   "source": [
    "print(list1)\n",
    "list1.pop(0)"
   ]
  },
  {
   "cell_type": "code",
   "execution_count": 6,
   "id": "46862292",
   "metadata": {},
   "outputs": [],
   "source": [
    "list2=[]"
   ]
  },
  {
   "cell_type": "code",
   "execution_count": 9,
   "id": "38bcc95a",
   "metadata": {},
   "outputs": [
    {
     "data": {
      "text/plain": [
       "[2, 1, 2]"
      ]
     },
     "execution_count": 9,
     "metadata": {},
     "output_type": "execute_result"
    }
   ],
   "source": [
    "list2.insert(0,1)\n",
    "list2.insert(0,2)\n",
    "list2"
   ]
  },
  {
   "cell_type": "code",
   "execution_count": 8,
   "id": "9fc45452",
   "metadata": {},
   "outputs": [
    {
     "data": {
      "text/plain": [
       "1"
      ]
     },
     "execution_count": 8,
     "metadata": {},
     "output_type": "execute_result"
    }
   ],
   "source": [
    "list2.pop()"
   ]
  },
  {
   "cell_type": "code",
   "execution_count": 11,
   "id": "d79a6d30",
   "metadata": {},
   "outputs": [
    {
     "data": {
      "text/plain": [
       "[3, 3, 2, 1, 2]"
      ]
     },
     "execution_count": 11,
     "metadata": {},
     "output_type": "execute_result"
    }
   ],
   "source": [
    "list2.insert(0,3)\n",
    "list2"
   ]
  },
  {
   "cell_type": "code",
   "execution_count": 12,
   "id": "8972ed8b",
   "metadata": {},
   "outputs": [
    {
     "data": {
      "text/plain": [
       "2"
      ]
     },
     "execution_count": 12,
     "metadata": {},
     "output_type": "execute_result"
    }
   ],
   "source": [
    "list2[-1]"
   ]
  },
  {
   "cell_type": "code",
   "execution_count": 13,
   "id": "972bde0f",
   "metadata": {},
   "outputs": [
    {
     "data": {
      "text/plain": [
       "3"
      ]
     },
     "execution_count": 13,
     "metadata": {},
     "output_type": "execute_result"
    }
   ],
   "source": [
    "list2[1]"
   ]
  },
  {
   "cell_type": "markdown",
   "id": "83d47df0",
   "metadata": {},
   "source": [
    "#  S linked list"
   ]
  },
  {
   "cell_type": "code",
   "execution_count": 3,
   "id": "33d648d6",
   "metadata": {},
   "outputs": [],
   "source": [
    "class node:\n",
    "    \n",
    "    def __init__(self, data):\n",
    "        self.data = data\n",
    "        self.ref = None"
   ]
  },
  {
   "cell_type": "code",
   "execution_count": 7,
   "id": "1de3f8b2",
   "metadata": {},
   "outputs": [],
   "source": [
    "class sll_add:\n",
    "    \n",
    "    def __init__(self):\n",
    "        self.head = None\n",
    "        \n",
    "    def add(self,data):\n",
    "\n",
    "        if self.head == None:\n",
    "            self.head = node(data)\n",
    "        else:\n",
    "            temp = self.head\n",
    "            \n",
    "            while temp.ref != None:\n",
    "                temp = temp.ref\n",
    "            temp.ref = node(data)\n",
    "    \n",
    "    def del_b(self):\n",
    "        \n",
    "        temp = self.head\n",
    "        self.head = temp.ref\n",
    "        \n",
    "            \n",
    "    def add_b(self, data):\n",
    "        \n",
    "        n = node(data)\n",
    "        n.ref = self.head\n",
    "        self.head = n\n",
    "        \n",
    "    def add_e(self,data):\n",
    "        if self.head == None:\n",
    "            self.head = node(data)\n",
    "        else:\n",
    "            temp = self.head\n",
    "            \n",
    "            while temp.ref != None:\n",
    "                temp = temp.ref\n",
    "            temp.ref = node(data)\n",
    "    \n",
    "    def del_e(self):\n",
    "        if self.head == None:\n",
    "            print(\"ll is empty\")\n",
    "        else:\n",
    "            temp = self.head\n",
    "            \n",
    "            while temp.ref != None:\n",
    "                pre = temp\n",
    "                temp = temp.ref\n",
    "            pre.ref = None\n",
    "    \n",
    "    \n",
    "    def add_ap(self,data,pos):    \n",
    "                temp = self.head\n",
    "                for i in range(1,pos):\n",
    "                    temp = temp.ref\n",
    "            \n",
    "                n = node(data)\n",
    "                n.ref = temp.ref\n",
    "                temp.ref = n\n",
    "    \n",
    "    def del_ap(self,pos):\n",
    "        temp = self.head\n",
    "        pre =temp\n",
    "        nxt = temp\n",
    "        for i in range(1,pos-1):\n",
    "            temp = temp.ref\n",
    "        temp.ref = temp.ref.ref\n",
    "\n",
    "    \n",
    "    def add_bp(self,data,pos):    \n",
    "                temp = self.head\n",
    "                for i in range(1,pos-1):\n",
    "                    temp = temp.ref\n",
    "            \n",
    "                n = node(data)\n",
    "                n.ref = temp.ref\n",
    "                temp.ref = n\n",
    "    def del_bp(self,pos):\n",
    "        temp = self.head\n",
    "        for i in range(1,pos):\n",
    "            temp = temp.ref\n",
    "        temp.ref = temp.ref.ref\n",
    "            \n",
    "    def print_ll(self):\n",
    "        \n",
    "        if self.head == None:\n",
    "            print(\"Linked list is empty\")\n",
    "        else:\n",
    "            n = self.head\n",
    "            print(\"linked list element : \")\n",
    "            while n != None:\n",
    "                print(n.data)\n",
    "                n= n.ref   "
   ]
  },
  {
   "cell_type": "code",
   "execution_count": 8,
   "id": "5e26c9b9",
   "metadata": {},
   "outputs": [
    {
     "name": "stdout",
     "output_type": "stream",
     "text": [
      "linked list element : \n",
      "2\n",
      "7\n",
      "4\n",
      "3\n",
      "linked list element : \n",
      "2\n",
      "7\n",
      "3\n"
     ]
    }
   ],
   "source": [
    "ll = sll_add()\n",
    "ll.add(2)\n",
    "ll.add(4)\n",
    "ll.add(3)\n",
    "#ll.print_ll()\n",
    "ll.add_b(1)\n",
    "#ll.print_ll()\n",
    "ll.add_e(5)\n",
    "#ll.print_ll()\n",
    "ll.add_ap(6,2)\n",
    "#ll.print_ll()\n",
    "ll.add_bp(7,4)\n",
    "#ll.print_ll()\n",
    "ll.del_b()\n",
    "#ll.print_ll()\n",
    "ll.del_e()\n",
    "#ll.print_ll()\n",
    "ll.del_ap(2)\n",
    "ll.print_ll()\n",
    "ll.del_bp(2)\n",
    "ll.print_ll()"
   ]
  },
  {
   "cell_type": "markdown",
   "id": "c8ea82b3",
   "metadata": {},
   "source": [
    "# D ll"
   ]
  },
  {
   "cell_type": "code",
   "execution_count": 1,
   "id": "30491aff",
   "metadata": {},
   "outputs": [],
   "source": [
    "class node:\n",
    "    \n",
    "    def __init__(self,data):\n",
    "        self.data = data\n",
    "        self.ref = None\n",
    "        self.pre = None"
   ]
  },
  {
   "cell_type": "code",
   "execution_count": 15,
   "id": "1f686d1a",
   "metadata": {},
   "outputs": [],
   "source": [
    "class dll:\n",
    "    \n",
    "    def __init__(self):\n",
    "        self.head = None\n",
    "        \n",
    "    def create_dll(self, data):\n",
    "        \n",
    "        n = node(data)\n",
    "        if self.head == None:\n",
    "            self.head = n\n",
    "        else:\n",
    "            temp = self.head\n",
    "            while temp.ref != None:\n",
    "                temp = temp.ref\n",
    "            temp.ref = n\n",
    "            n.pre = temp\n",
    "    \n",
    "    def add_b(self, data):\n",
    "        n = node(data)\n",
    "        if self.head == None:\n",
    "            self.head = n\n",
    "        else:\n",
    "            n.ref = self.head\n",
    "            self.head.pre = n\n",
    "            self.head = n\n",
    "            \n",
    "    def add_e(self,data):\n",
    "        n = node(data)\n",
    "        if self.head == None:\n",
    "            self.head = n\n",
    "        else:\n",
    "            temp = self.head\n",
    "            while temp.ref != None:\n",
    "                temp = temp.ref\n",
    "            temp.ref = n\n",
    "            n.pre = temp\n",
    "            \n",
    "    def add_p(self, data, pos):\n",
    "        n = node(data)\n",
    "        temp = self.head\n",
    "        for i in range(0,pos):\n",
    "            a = temp\n",
    "            temp = temp.ref\n",
    "        n.ref = temp\n",
    "        temp.pre = n\n",
    "        n.pre = a\n",
    "        a.ref = n\n",
    "        \n",
    "    def print_ll(self):\n",
    "        \n",
    "        if self.head == None:\n",
    "            print(\"Dll is Empty\")\n",
    "        else:\n",
    "            temp = self.head\n",
    "            print(\"ll elements: \")\n",
    "            while  temp != None:\n",
    "                print(temp.data)\n",
    "                temp = temp.ref\n",
    "            "
   ]
  },
  {
   "cell_type": "code",
   "execution_count": 16,
   "id": "14eac8a1",
   "metadata": {},
   "outputs": [
    {
     "name": "stdout",
     "output_type": "stream",
     "text": [
      "ll elements: \n",
      "1\n",
      "3\n",
      "5\n",
      "7\n",
      "8\n",
      "ll elements: \n",
      "1\n",
      "2\n",
      "3\n",
      "4\n",
      "5\n",
      "7\n",
      "8\n"
     ]
    }
   ],
   "source": [
    "d = dll()\n",
    "d.create_dll(3)\n",
    "d.create_dll(5)\n",
    "d.create_dll(7)\n",
    "#d.print_ll()\n",
    "d.add_b(1)\n",
    "#d.print_ll()\n",
    "d.add_e(8)\n",
    "d.print_ll()\n",
    "d.add_p(2, 1)\n",
    "d.add_p(4, 3)\n",
    "d.print_ll()"
   ]
  }
 ],
 "metadata": {
  "kernelspec": {
   "display_name": "Python 3",
   "language": "python",
   "name": "python3"
  },
  "language_info": {
   "codemirror_mode": {
    "name": "ipython",
    "version": 3
   },
   "file_extension": ".py",
   "mimetype": "text/x-python",
   "name": "python",
   "nbconvert_exporter": "python",
   "pygments_lexer": "ipython3",
   "version": "3.6.9"
  }
 },
 "nbformat": 4,
 "nbformat_minor": 5
}
