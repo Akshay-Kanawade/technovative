{
 "cells": [
  {
   "cell_type": "markdown",
   "id": "1b9e38b6",
   "metadata": {},
   "source": [
    "# Queue"
   ]
  },
  {
   "cell_type": "code",
   "execution_count": 1,
   "id": "d84c6aa1",
   "metadata": {},
   "outputs": [
    {
     "name": "stdout",
     "output_type": "stream",
     "text": [
      "[1, 2, 3, 4, 5]\n",
      "[3, 4, 5]\n"
     ]
    }
   ],
   "source": [
    "class Queue:\n",
    "    \n",
    "    def __init__(self,queue):\n",
    "        self.queue=queue\n",
    "        \n",
    "    def add(self,ele):\n",
    "        queue.append(ele)\n",
    "        \n",
    "    def remove(self):\n",
    "        queue.pop(0)\n",
    "        \n",
    "    def show(self):\n",
    "        print(queue)\n",
    "        \n",
    "        \n",
    "queue = []       \n",
    "q=Queue(queue)\n",
    "\n",
    "q.add(1)\n",
    "q.add(2)\n",
    "q.add(3)\n",
    "q.add(4)\n",
    "q.add(5)\n",
    "\n",
    "q.show()\n",
    "\n",
    "q.remove()\n",
    "q.remove()\n",
    "\n",
    "q.show()"
   ]
  },
  {
   "cell_type": "code",
   "execution_count": 2,
   "id": "32c4cb5c",
   "metadata": {},
   "outputs": [
    {
     "name": "stdout",
     "output_type": "stream",
     "text": [
      "5\n",
      "1\n",
      "2\n",
      "3\n",
      "4\n",
      "5\n",
      "[1, 2, 3, 4, 5]\n",
      "1\n",
      "2\n",
      "[3, 4, 5]\n"
     ]
    }
   ],
   "source": [
    "class Queue:\n",
    "    \n",
    "    def __init__(self,queue, limit):\n",
    "        self.queue=queue\n",
    "        self.limit = limit\n",
    "        \n",
    "    def add(self,ele):\n",
    "        if len(queue) == limit:\n",
    "            print(\"Queue is full\")\n",
    "        else:\n",
    "            queue.append(ele)\n",
    "        \n",
    "    def remove(self):\n",
    "        if len(queue) == 0:\n",
    "            print(\"Queue is empty\")\n",
    "        else:\n",
    "            return queue.pop(0)\n",
    "        \n",
    "    def show(self):\n",
    "        print(queue)\n",
    "        \n",
    "        \n",
    "queue = []     \n",
    "limit = int(input())\n",
    "q=Queue(queue, limit)\n",
    "\n",
    "for i in range(limit):\n",
    "    q.add(int(input()))\n",
    "\n",
    "q.show()\n",
    "\n",
    "print(q.remove())\n",
    "print(q.remove())\n",
    "\n",
    "q.show()"
   ]
  }
 ],
 "metadata": {
  "kernelspec": {
   "display_name": "Python 3",
   "language": "python",
   "name": "python3"
  },
  "language_info": {
   "codemirror_mode": {
    "name": "ipython",
    "version": 3
   },
   "file_extension": ".py",
   "mimetype": "text/x-python",
   "name": "python",
   "nbconvert_exporter": "python",
   "pygments_lexer": "ipython3",
   "version": "3.6.9"
  }
 },
 "nbformat": 4,
 "nbformat_minor": 5
}
