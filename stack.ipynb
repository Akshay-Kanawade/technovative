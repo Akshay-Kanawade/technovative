{
 "cells": [
  {
   "cell_type": "markdown",
   "id": "764f0590",
   "metadata": {},
   "source": [
    "# stack"
   ]
  },
  {
   "cell_type": "code",
   "execution_count": 1,
   "id": "dc0c6c14",
   "metadata": {},
   "outputs": [
    {
     "name": "stdout",
     "output_type": "stream",
     "text": [
      "init method call\n"
     ]
    }
   ],
   "source": [
    "class stack:\n",
    " \n",
    "    def __init__(self):\n",
    "        print(\"init method call\")\n",
    "    \n",
    "s = stack()\n"
   ]
  },
  {
   "cell_type": "code",
   "execution_count": 2,
   "id": "843fa330",
   "metadata": {},
   "outputs": [
    {
     "name": "stdout",
     "output_type": "stream",
     "text": [
      "5\n"
     ]
    }
   ],
   "source": [
    "class stack:\n",
    "    \n",
    "    def __init__(self, a):\n",
    "        self.a=a\n",
    "    def get(self):\n",
    "        return self.a\n",
    "    \n",
    "    \n",
    "s=stack(5)\n",
    "print(s.get())"
   ]
  },
  {
   "cell_type": "code",
   "execution_count": 3,
   "id": "0ccf1a09",
   "metadata": {},
   "outputs": [
    {
     "name": "stdout",
     "output_type": "stream",
     "text": [
      "[5, 6, 7, 8]\n",
      "[5, 6]\n"
     ]
    }
   ],
   "source": [
    "class stack:\n",
    "    \n",
    "    def __init__(self, list1):\n",
    "        self.list1 = list1\n",
    "        \n",
    "    def add(self,ele):\n",
    "        list1.append(ele)\n",
    "        \n",
    "    def remove(self):\n",
    "        list1.pop()\n",
    "    \n",
    "    def show(self):\n",
    "        print(self.list1)\n",
    "\n",
    "        \n",
    "list1=[]        \n",
    "s = stack(list1)\n",
    "s.add(5)\n",
    "s.add(6)\n",
    "s.add(7)\n",
    "s.add(8)\n",
    "s.show()\n",
    "s.remove()\n",
    "s.remove()\n",
    "s.show()"
   ]
  },
  {
   "cell_type": "code",
   "execution_count": 4,
   "id": "d5f5e9dc",
   "metadata": {},
   "outputs": [
    {
     "name": "stdout",
     "output_type": "stream",
     "text": [
      "enter the limit : 5\n",
      "1\n",
      "2\n",
      "3\n",
      "4\n",
      "5\n",
      "[1, 2, 3, 4, 5]\n",
      "[1, 2, 3]\n"
     ]
    }
   ],
   "source": [
    "class stack:\n",
    "    \n",
    "    def __init__(self, list1, limit):\n",
    "        self.list1 = list1\n",
    "        self.limit = limit\n",
    "        \n",
    "    def add(self, ele):\n",
    "        if len(list1) == limit:\n",
    "            print(\"stack is full\")\n",
    "        else:\n",
    "            list1.append(ele)\n",
    "            \n",
    "    def pop(self):\n",
    "        if len(list1) == 0:\n",
    "            print(\"stack is empty\")\n",
    "        else:\n",
    "            list1.pop()\n",
    "    \n",
    "    def show(self):\n",
    "        print(list1)\n",
    "        \n",
    "        \n",
    "list1=[]  \n",
    "limit=int(input(\"enter the limit : \"))\n",
    "s= stack(list1, limit)\n",
    "\n",
    "for i in range(limit):\n",
    "    s.add(int(input()))\n",
    "\n",
    "\n",
    "s.show()\n",
    "\n",
    "s.pop()\n",
    "s.pop()\n",
    "\n",
    "s.show()\n",
    "\n",
    "        "
   ]
  },
  {
   "cell_type": "markdown",
   "id": "98881d9c",
   "metadata": {},
   "source": [
    "# using deque"
   ]
  },
  {
   "cell_type": "code",
   "execution_count": 5,
   "id": "540155a3",
   "metadata": {},
   "outputs": [],
   "source": [
    "from collections import deque"
   ]
  },
  {
   "cell_type": "code",
   "execution_count": 6,
   "id": "93fc16e4",
   "metadata": {},
   "outputs": [
    {
     "data": {
      "text/plain": [
       "deque([])"
      ]
     },
     "execution_count": 6,
     "metadata": {},
     "output_type": "execute_result"
    }
   ],
   "source": [
    "s=deque()\n",
    "s"
   ]
  },
  {
   "cell_type": "code",
   "execution_count": 7,
   "id": "45b82cdc",
   "metadata": {},
   "outputs": [
    {
     "name": "stdout",
     "output_type": "stream",
     "text": [
      "5\n",
      "1\n",
      "2\n",
      "3\n",
      "4\n",
      "5\n"
     ]
    },
    {
     "data": {
      "text/plain": [
       "deque([1, 2, 3, 4, 5])"
      ]
     },
     "execution_count": 7,
     "metadata": {},
     "output_type": "execute_result"
    }
   ],
   "source": [
    "n = int(input())\n",
    "\n",
    "for i in range(n):\n",
    "    s.append(int(input()))\n",
    "    \n",
    "s"
   ]
  },
  {
   "cell_type": "code",
   "execution_count": 8,
   "id": "ab0bdfaa",
   "metadata": {},
   "outputs": [
    {
     "data": {
      "text/plain": [
       "5"
      ]
     },
     "execution_count": 8,
     "metadata": {},
     "output_type": "execute_result"
    }
   ],
   "source": [
    "s.pop()"
   ]
  },
  {
   "cell_type": "code",
   "execution_count": 9,
   "id": "fa957a84",
   "metadata": {},
   "outputs": [
    {
     "data": {
      "text/plain": [
       "4"
      ]
     },
     "execution_count": 9,
     "metadata": {},
     "output_type": "execute_result"
    }
   ],
   "source": [
    "s.pop()"
   ]
  },
  {
   "cell_type": "code",
   "execution_count": 10,
   "id": "4c489747",
   "metadata": {},
   "outputs": [
    {
     "data": {
      "text/plain": [
       "deque([1, 2, 3])"
      ]
     },
     "execution_count": 10,
     "metadata": {},
     "output_type": "execute_result"
    }
   ],
   "source": [
    "s"
   ]
  },
  {
   "cell_type": "markdown",
   "id": "22a551e4",
   "metadata": {},
   "source": [
    "# lifoqueue "
   ]
  },
  {
   "cell_type": "code",
   "execution_count": 11,
   "id": "635750a4",
   "metadata": {},
   "outputs": [],
   "source": [
    "from queue import LifoQueue"
   ]
  },
  {
   "cell_type": "code",
   "execution_count": 12,
   "id": "b5ad253c",
   "metadata": {},
   "outputs": [
    {
     "name": "stdout",
     "output_type": "stream",
     "text": [
      "5\n"
     ]
    },
    {
     "data": {
      "text/plain": [
       "0"
      ]
     },
     "execution_count": 12,
     "metadata": {},
     "output_type": "execute_result"
    }
   ],
   "source": [
    "maxsize = int(input())\n",
    "s = LifoQueue(maxsize=5)\n",
    "s.qsize()"
   ]
  },
  {
   "cell_type": "code",
   "execution_count": 13,
   "id": "844dda94",
   "metadata": {},
   "outputs": [
    {
     "name": "stdout",
     "output_type": "stream",
     "text": [
      "1\n",
      "2\n",
      "3\n",
      "4\n",
      "5\n"
     ]
    }
   ],
   "source": [
    "for i in range(maxsize):\n",
    "    s.put(int(input()))\n"
   ]
  },
  {
   "cell_type": "code",
   "execution_count": 14,
   "id": "8c0f3ad8",
   "metadata": {},
   "outputs": [
    {
     "data": {
      "text/plain": [
       "True"
      ]
     },
     "execution_count": 14,
     "metadata": {},
     "output_type": "execute_result"
    }
   ],
   "source": [
    "s.full()"
   ]
  },
  {
   "cell_type": "code",
   "execution_count": 15,
   "id": "8df39db1",
   "metadata": {},
   "outputs": [
    {
     "data": {
      "text/plain": [
       "5"
      ]
     },
     "execution_count": 15,
     "metadata": {},
     "output_type": "execute_result"
    }
   ],
   "source": [
    "s.qsize()"
   ]
  },
  {
   "cell_type": "code",
   "execution_count": 16,
   "id": "85181b00",
   "metadata": {},
   "outputs": [
    {
     "data": {
      "text/plain": [
       "5"
      ]
     },
     "execution_count": 16,
     "metadata": {},
     "output_type": "execute_result"
    }
   ],
   "source": [
    "s.get()"
   ]
  },
  {
   "cell_type": "code",
   "execution_count": 17,
   "id": "765a7288",
   "metadata": {},
   "outputs": [
    {
     "data": {
      "text/plain": [
       "4"
      ]
     },
     "execution_count": 17,
     "metadata": {},
     "output_type": "execute_result"
    }
   ],
   "source": [
    "s.get()"
   ]
  },
  {
   "cell_type": "code",
   "execution_count": 18,
   "id": "3bee53a1",
   "metadata": {},
   "outputs": [
    {
     "name": "stdout",
     "output_type": "stream",
     "text": [
      "3\n",
      "2\n",
      "1\n"
     ]
    }
   ],
   "source": [
    "for i in range(int(s.qsize())):\n",
    "    print(s.get())"
   ]
  }
 ],
 "metadata": {
  "kernelspec": {
   "display_name": "Python 3",
   "language": "python",
   "name": "python3"
  },
  "language_info": {
   "codemirror_mode": {
    "name": "ipython",
    "version": 3
   },
   "file_extension": ".py",
   "mimetype": "text/x-python",
   "name": "python",
   "nbconvert_exporter": "python",
   "pygments_lexer": "ipython3",
   "version": "3.6.9"
  }
 },
 "nbformat": 4,
 "nbformat_minor": 5
}
