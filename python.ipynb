{
 "cells": [
  {
   "cell_type": "code",
   "execution_count": 23,
   "id": "48999af9",
   "metadata": {},
   "outputs": [
    {
     "data": {
      "text/plain": [
       "'4598'"
      ]
     },
     "execution_count": 23,
     "metadata": {},
     "output_type": "execute_result"
    }
   ],
   "source": [
    "a = str(14527988)\n",
    "str1=\"\"\n",
    "for i in range(0,len(a)-1,2):\n",
    "    if a[i] >= a[i+1]:\n",
    "        str1+=a[i]\n",
    "    else:\n",
    "        str1+=a[i+1]\n",
    "if(len(a)%2!=0):\n",
    "    str1+=a[-1]\n",
    "        \n",
    "str1"
   ]
  },
  {
   "cell_type": "code",
   "execution_count": null,
   "id": "a23ebf2f",
   "metadata": {},
   "outputs": [],
   "source": []
  },
  {
   "cell_type": "code",
   "execution_count": null,
   "id": "e77c91ef",
   "metadata": {},
   "outputs": [],
   "source": []
  },
  {
   "cell_type": "code",
   "execution_count": 1,
   "id": "8a38403a",
   "metadata": {},
   "outputs": [],
   "source": [
    "list1=[2,4,6,7,9,8,53,12,34,90]"
   ]
  },
  {
   "cell_type": "code",
   "execution_count": 2,
   "id": "1617eef0",
   "metadata": {},
   "outputs": [
    {
     "name": "stdout",
     "output_type": "stream",
     "text": [
      "found at position : 7\n"
     ]
    }
   ],
   "source": [
    "#linear search\n",
    "\n",
    "ele = 53\n",
    "found = 0\n",
    "for i in range(len(list1)):\n",
    "    if list1[i] == ele:\n",
    "        found = 1\n",
    "        break\n",
    "if found == 1:\n",
    "    print(\"found at position : {}\".format(i+1))\n",
    "else:\n",
    "    print(\"not found\")"
   ]
  },
  {
   "cell_type": "code",
   "execution_count": 3,
   "id": "29004687",
   "metadata": {},
   "outputs": [
    {
     "name": "stdout",
     "output_type": "stream",
     "text": [
      "found\n"
     ]
    }
   ],
   "source": [
    "#binary search\n",
    "\n",
    "def search(list1,ele):\n",
    "    l = 0\n",
    "    u = len(list1)-1\n",
    "\n",
    "    while l<= u:\n",
    "        mid = (u+l)//2\n",
    "        if list1[mid] == ele:\n",
    "            return True\n",
    "        else:\n",
    "            if list1[mid]< ele:\n",
    "                l=mid\n",
    "            else:\n",
    "                u=mid\n",
    "list1=[3,24,7,16,4,36,6,45,62,29,94]               \n",
    "ele=45\n",
    "                \n",
    "if search(list1,ele):\n",
    "    print(\"found\")\n",
    "else:\n",
    "    print(\"not found\")\n",
    "\n"
   ]
  },
  {
   "cell_type": "code",
   "execution_count": 4,
   "id": "f1a7c664",
   "metadata": {},
   "outputs": [
    {
     "name": "stdout",
     "output_type": "stream",
     "text": [
      "[3, 4, 6, 7, 16, 24, 29, 36, 45, 62, 94]\n"
     ]
    }
   ],
   "source": [
    "#bubbel sort\n",
    "\n",
    "def buble(list1):\n",
    "    for i in range(len(list1)):\n",
    "        for j in range(len(list1)-1):\n",
    "            if list1[j] > list1[j+1]:\n",
    "                temp=list1[j+1]\n",
    "                list1[j+1]=list1[j]\n",
    "                list1[j]=temp\n",
    "    return list1\n",
    "\n",
    "list1=[3,24,7,16,4,36,6,45,62,29,94] \n",
    "print(buble(list1))\n",
    "    \n",
    "    \n",
    "    "
   ]
  },
  {
   "cell_type": "code",
   "execution_count": 5,
   "id": "fbba46de",
   "metadata": {},
   "outputs": [
    {
     "name": "stdout",
     "output_type": "stream",
     "text": [
      "[2, 5, 7, 9, 4, 6]\n",
      "[2, 4, 7, 9, 5, 6]\n",
      "[2, 4, 5, 9, 7, 6]\n",
      "[2, 4, 5, 6, 9, 7]\n",
      "[2, 4, 5, 6, 7, 9]\n"
     ]
    },
    {
     "data": {
      "text/plain": [
       "[2, 4, 5, 6, 7, 9]"
      ]
     },
     "execution_count": 5,
     "metadata": {},
     "output_type": "execute_result"
    }
   ],
   "source": [
    "# selection sort\n",
    "\n",
    "def sort(list1):\n",
    "    \n",
    "    for i in range(len(list1)-1):\n",
    "    \n",
    "        for j in range(i,len(list1)):\n",
    "            if list1[i] > list1[j]:\n",
    "                temp= list1[j]\n",
    "                list1[j]=list1[i]\n",
    "                list1[i]=temp\n",
    "        print(list1)\n",
    "    return list1\n",
    "        \n",
    "    \n",
    "list1=[5,2,7,9,4,6]\n",
    "sort(list1)"
   ]
  },
  {
   "cell_type": "code",
   "execution_count": 6,
   "id": "0bf68c2c",
   "metadata": {},
   "outputs": [
    {
     "name": "stdout",
     "output_type": "stream",
     "text": [
      "1\n",
      "akshay\n",
      "55\n"
     ]
    }
   ],
   "source": [
    "class student:\n",
    "    def __init__(self,roll_no,name):\n",
    "        self.roll_no = roll_no\n",
    "        self.name = name\n",
    "        \n",
    "    def set(self,marks):\n",
    "        self.marks = marks\n",
    "        \n",
    "    def display(self):\n",
    "        print(self.roll_no)\n",
    "        print(self.name)\n",
    "        print(self.marks)\n",
    "        \n",
    "        \n",
    "s=student(1,'akshay')\n",
    "s.set(55)\n",
    "s.display()\n",
    "        "
   ]
  },
  {
   "cell_type": "markdown",
   "id": "ab8fa66e",
   "metadata": {},
   "source": [
    "# ARRAY"
   ]
  },
  {
   "cell_type": "code",
   "execution_count": 7,
   "id": "15749147",
   "metadata": {},
   "outputs": [],
   "source": [
    "import array as arr"
   ]
  },
  {
   "cell_type": "code",
   "execution_count": 8,
   "id": "2f249e10",
   "metadata": {},
   "outputs": [
    {
     "name": "stdout",
     "output_type": "stream",
     "text": [
      "2\n",
      "3\n",
      "4\n",
      "5\n",
      "6\n"
     ]
    }
   ],
   "source": [
    "arr1 = arr.array('i',[2,3,4,5,6])\n",
    "\n",
    "for ele in arr1:\n",
    "    print(ele)"
   ]
  },
  {
   "cell_type": "code",
   "execution_count": 10,
   "id": "7d979eb8",
   "metadata": {},
   "outputs": [
    {
     "name": "stdout",
     "output_type": "stream",
     "text": [
      "2\n",
      "array('i', [1, 2, 3, 4, 5, 6])\n",
      "array('i', [2, 3, 4, 5, 6])\n",
      "2\n",
      "array('i', [1, 3, 4, 5, 6])\n"
     ]
    }
   ],
   "source": [
    "print(arr1[0])\n",
    "arr1.insert(0,1)\n",
    "print(arr1)\n",
    "arr1.remove(1)\n",
    "print(arr1)\n",
    "print(arr1.index(4))\n",
    "arr1[0]=1\n",
    "print(arr1)"
   ]
  },
  {
   "cell_type": "markdown",
   "id": "473c9fcf",
   "metadata": {},
   "source": [
    "# map"
   ]
  },
  {
   "cell_type": "code",
   "execution_count": 17,
   "id": "cafd510c",
   "metadata": {},
   "outputs": [
    {
     "name": "stdout",
     "output_type": "stream",
     "text": [
      "9.0\n",
      "8.0\n",
      "7.0\n",
      "6.0\n",
      "4.0\n",
      "2.0\n"
     ]
    }
   ],
   "source": [
    "list1=[2,4,7,6,4,2]\n",
    "list2=[9,8,7,6,4,2]\n",
    "\n",
    "res=map(float,list2)\n",
    "\n",
    "for i in res:\n",
    "    print(i)"
   ]
  },
  {
   "cell_type": "markdown",
   "id": "62d18e05",
   "metadata": {},
   "source": [
    "# OOPS"
   ]
  },
  {
   "cell_type": "raw",
   "id": "6380d11e",
   "metadata": {},
   "source": [
    "define class and create object"
   ]
  },
  {
   "cell_type": "code",
   "execution_count": 23,
   "id": "4d8e5532",
   "metadata": {},
   "outputs": [
    {
     "name": "stdout",
     "output_type": "stream",
     "text": [
      "hii\n"
     ]
    }
   ],
   "source": [
    "class student:\n",
    "    print(\"hii\")\n",
    "    \n",
    "stud = student()"
   ]
  },
  {
   "cell_type": "raw",
   "id": "2331561f",
   "metadata": {},
   "source": [
    "constructor"
   ]
  },
  {
   "cell_type": "code",
   "execution_count": 27,
   "id": "287644b4",
   "metadata": {},
   "outputs": [
    {
     "name": "stdout",
     "output_type": "stream",
     "text": [
      "IN CONSTRUCTOR.....\n",
      "id : akshay  name : 1 \n"
     ]
    }
   ],
   "source": [
    "class student:\n",
    "    \n",
    "    def __init__(self, name, id):\n",
    "        \n",
    "            print(\"IN CONSTRUCTOR.....\")\n",
    "            self.name = name\n",
    "            self.id = id\n",
    "            \n",
    "    def show(self):\n",
    "        \n",
    "        print(\"id : {}  name : {} \".format(self.id, self.name))\n",
    "        \n",
    "std = student(1,'akshay')\n",
    "\n",
    "std.show()"
   ]
  },
  {
   "cell_type": "raw",
   "id": "cde6d482",
   "metadata": {},
   "source": [
    "set and get method"
   ]
  },
  {
   "cell_type": "code",
   "execution_count": 33,
   "id": "d7957352",
   "metadata": {},
   "outputs": [
    {
     "name": "stdout",
     "output_type": "stream",
     "text": [
      "constructor.... <__main__.student object at 0x7f5c241f1128>\n",
      "constructor.... <__main__.student object at 0x7f5c242bc978>\n",
      "id : 1 name : akshay \n",
      "set value...\n",
      "after set value...\n",
      "id : 1 name : AKSHAY \n",
      "\n",
      "id : 2 name : mayur \n",
      "set value...\n",
      "after set value...\n",
      "id : 2 name : MAYUR \n"
     ]
    }
   ],
   "source": [
    "class student:\n",
    "    \n",
    "    def __init__(self, id, name):\n",
    "        \n",
    "        print(\"constructor....\",self)\n",
    "        self.id = id\n",
    "        self.name = name\n",
    "                \n",
    "    def set(self, id, name):\n",
    "        \n",
    "        print(\"set value...\")\n",
    "        self.id = id\n",
    "        self.name = name\n",
    "        \n",
    "    def get(self):\n",
    "        \n",
    "        return  print(\"id : {} name : {} \".format(self.id, self.name))\n",
    "    \n",
    "    \n",
    "std = student(1, 'akshay')\n",
    "std1 = student(2, 'mayur')\n",
    "\n",
    "std.get()\n",
    "std.set(1,'AKSHAY')\n",
    "print(\"after set value...\")\n",
    "std.get()\n",
    "print()\n",
    "std1.get()\n",
    "std1.set(2,'MAYUR')\n",
    "print(\"after set value...\")\n",
    "std1.get()"
   ]
  },
  {
   "cell_type": "code",
   "execution_count": null,
   "id": "1815eddf",
   "metadata": {},
   "outputs": [],
   "source": []
  },
  {
   "cell_type": "code",
   "execution_count": null,
   "id": "dc8db7f0",
   "metadata": {},
   "outputs": [],
   "source": []
  },
  {
   "cell_type": "code",
   "execution_count": null,
   "id": "f1bdeb1c",
   "metadata": {},
   "outputs": [],
   "source": []
  },
  {
   "cell_type": "code",
   "execution_count": null,
   "id": "c56da15c",
   "metadata": {},
   "outputs": [],
   "source": []
  },
  {
   "cell_type": "code",
   "execution_count": null,
   "id": "91036c15",
   "metadata": {},
   "outputs": [],
   "source": []
  },
  {
   "cell_type": "code",
   "execution_count": null,
   "id": "99702c5c",
   "metadata": {},
   "outputs": [],
   "source": []
  },
  {
   "cell_type": "code",
   "execution_count": null,
   "id": "c86a79a9",
   "metadata": {},
   "outputs": [],
   "source": []
  },
  {
   "cell_type": "code",
   "execution_count": null,
   "id": "3c3d75e9",
   "metadata": {},
   "outputs": [],
   "source": []
  },
  {
   "cell_type": "code",
   "execution_count": null,
   "id": "d28f881c",
   "metadata": {},
   "outputs": [],
   "source": []
  },
  {
   "cell_type": "code",
   "execution_count": null,
   "id": "f9668428",
   "metadata": {},
   "outputs": [],
   "source": []
  },
  {
   "cell_type": "markdown",
   "id": "6bd284e3",
   "metadata": {},
   "source": [
    "# linked list"
   ]
  },
  {
   "cell_type": "code",
   "execution_count": null,
   "id": "4964e572",
   "metadata": {},
   "outputs": [],
   "source": []
  },
  {
   "cell_type": "code",
   "execution_count": null,
   "id": "c82ba966",
   "metadata": {},
   "outputs": [],
   "source": []
  },
  {
   "cell_type": "code",
   "execution_count": null,
   "id": "5829aec6",
   "metadata": {},
   "outputs": [],
   "source": []
  },
  {
   "cell_type": "code",
   "execution_count": null,
   "id": "65096012",
   "metadata": {},
   "outputs": [],
   "source": []
  },
  {
   "cell_type": "code",
   "execution_count": null,
   "id": "a13247e6",
   "metadata": {},
   "outputs": [],
   "source": []
  },
  {
   "cell_type": "code",
   "execution_count": null,
   "id": "5af07d72",
   "metadata": {},
   "outputs": [],
   "source": []
  },
  {
   "cell_type": "code",
   "execution_count": null,
   "id": "1d93eae7",
   "metadata": {},
   "outputs": [],
   "source": []
  },
  {
   "cell_type": "code",
   "execution_count": null,
   "id": "e0217a25",
   "metadata": {},
   "outputs": [],
   "source": []
  },
  {
   "cell_type": "code",
   "execution_count": null,
   "id": "8bfd6d8a",
   "metadata": {},
   "outputs": [],
   "source": []
  }
 ],
 "metadata": {
  "kernelspec": {
   "display_name": "Python 3",
   "language": "python",
   "name": "python3"
  },
  "language_info": {
   "codemirror_mode": {
    "name": "ipython",
    "version": 3
   },
   "file_extension": ".py",
   "mimetype": "text/x-python",
   "name": "python",
   "nbconvert_exporter": "python",
   "pygments_lexer": "ipython3",
   "version": "3.6.9"
  }
 },
 "nbformat": 4,
 "nbformat_minor": 5
}
