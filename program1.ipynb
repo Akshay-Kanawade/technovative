{
 "cells": [
  {
   "cell_type": "code",
   "execution_count": 1,
   "id": "dc58241a",
   "metadata": {},
   "outputs": [
    {
     "name": "stdout",
     "output_type": "stream",
     "text": [
      "-5859\n",
      "-589\n"
     ]
    }
   ],
   "source": [
    "n=int(input())\n",
    "strv=list(str(n))\n",
    "temp=strv\n",
    "list1=[]\n",
    "ind=[i for i in range(len(strv)) if strv[i] == '5']\n",
    "for i in ind:\n",
    "    strv[i]=\"\"\n",
    "    list1.append(int(\"\".join(strv)))\n",
    "    strv[i]='5'\n",
    "print(max(list1))"
   ]
  },
  {
   "cell_type": "code",
   "execution_count": 3,
   "id": "b69f8b65",
   "metadata": {},
   "outputs": [
    {
     "name": "stdout",
     "output_type": "stream",
     "text": [
      "7 3 6\n",
      "1 3 2 5 4 6 7\n",
      "[1, 2, 7]\n"
     ]
    }
   ],
   "source": [
    "n,a,b =map(int,input().split(\" \"))\n",
    "list2=[int(i) for i in [i for i in input().split(\" \")] if int(i) not in range(a,b+1)]\n",
    "print(list2)\n",
    "    "
   ]
  },
  {
   "cell_type": "code",
   "execution_count": 4,
   "id": "8b162b5b",
   "metadata": {},
   "outputs": [
    {
     "name": "stdout",
     "output_type": "stream",
     "text": [
      "I like to swim and I love to travel aboard\n",
      "6\n"
     ]
    }
   ],
   "source": [
    "a= input()\n",
    "list1=[]\n",
    "for i in a.split(\" \"):\n",
    "    if i not in list1:\n",
    "        list1.append(i)\n",
    "    else:\n",
    "        list1.remove(i)\n",
    "        \n",
    "            \n",
    "print(len(list1))\n",
    "        "
   ]
  },
  {
   "cell_type": "code",
   "execution_count": 5,
   "id": "e1d322e5",
   "metadata": {},
   "outputs": [
    {
     "name": "stdout",
     "output_type": "stream",
     "text": [
      "{3: 3, 8: 1, 2: 4}\n",
      "3\n"
     ]
    }
   ],
   "source": [
    "l1=[3,8,2,3,3,2,2,2]\n",
    "m={}\n",
    "k=3\n",
    "for i in range(len(l1)):\n",
    "    if l1[i] in m.keys():\n",
    "        m[l1[i]]+=1\n",
    "    else:\n",
    "        m[l1[i]]=1\n",
    "print(m)\n",
    "for i in m.keys():\n",
    "    if m[i] == k:\n",
    "        print(i)\n",
    "\n",
    "\n",
    "#max(l1,key=l1.count())\n"
   ]
  },
  {
   "cell_type": "code",
   "execution_count": 6,
   "id": "a5924fb0",
   "metadata": {},
   "outputs": [
    {
     "name": "stdout",
     "output_type": "stream",
     "text": [
      "589\n"
     ]
    },
    {
     "data": {
      "text/plain": [
       "['8', '9']"
      ]
     },
     "execution_count": 6,
     "metadata": {},
     "output_type": "execute_result"
    }
   ],
   "source": [
    "n=input()\n",
    "l1=list(n)\n",
    "if n > '0':\n",
    "    for i in range(len(n)//2):\n",
    "        if l1[i]== '5':\n",
    "            l1.remove(l1[i])\n",
    "else:\n",
    "    for i in range(len(n-1)//2,len(n)):\n",
    "        if l1[i]== '5':\n",
    "            del l1[i]\n",
    "l1\n",
    "    "
   ]
  }
 ],
 "metadata": {
  "kernelspec": {
   "display_name": "Python 3",
   "language": "python",
   "name": "python3"
  },
  "language_info": {
   "codemirror_mode": {
    "name": "ipython",
    "version": 3
   },
   "file_extension": ".py",
   "mimetype": "text/x-python",
   "name": "python",
   "nbconvert_exporter": "python",
   "pygments_lexer": "ipython3",
   "version": "3.6.9"
  }
 },
 "nbformat": 4,
 "nbformat_minor": 5
}
